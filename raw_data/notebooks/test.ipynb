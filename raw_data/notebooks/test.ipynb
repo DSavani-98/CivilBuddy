{
 "cells": [
  {
   "cell_type": "code",
   "execution_count": 1,
   "metadata": {},
   "outputs": [],
   "source": [
    "from docx import Document\n",
    "from docx.shared import Inches\n",
    "from PIL import Image\n",
    "\n",
    "# Create a new document\n",
    "document = Document()\n",
    "\n",
    "# Open the image to get its dimensions\n",
    "image_path = \"/home/dhruv/Work/personal/Dhruv-Equator/raw_data/images/sample.jpeg\"\n",
    "image = Image.open(image_path)\n",
    "image_width, image_height = image.size\n",
    "\n",
    "# Define the maximum width (you can adjust this value to fit your needs)\n",
    "max_width_in_inches = 6  # Usually a good width for Word documents\n",
    "\n",
    "# Calculate the new width and height to maintain the aspect ratio\n",
    "aspect_ratio = image_height / image_width\n",
    "new_width = min(Inches(max_width_in_inches), Inches(image_width))\n",
    "new_height = Inches(aspect_ratio * new_width / Inches(1))\n",
    "\n",
    "# Add the resized image to the document\n",
    "document.add_picture(image_path, width=new_width, height=new_height)\n",
    "\n",
    "# Save the document\n",
    "document.save('output_document.docx')"
   ]
  }
 ],
 "metadata": {
  "kernelspec": {
   "display_name": ".venv",
   "language": "python",
   "name": "python3"
  },
  "language_info": {
   "codemirror_mode": {
    "name": "ipython",
    "version": 3
   },
   "file_extension": ".py",
   "mimetype": "text/x-python",
   "name": "python",
   "nbconvert_exporter": "python",
   "pygments_lexer": "ipython3",
   "version": "3.12.3"
  }
 },
 "nbformat": 4,
 "nbformat_minor": 2
}
