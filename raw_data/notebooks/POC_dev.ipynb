{
 "cells": [
  {
   "cell_type": "markdown",
   "metadata": {},
   "source": [
    "# Personal project to demonstrate the the following skills:\n",
    " - Prompt engineering\n",
    " - Flask (web app)\n",
    " - Docker (containerized deployment)\n",
    " - Exposure towards AI\n",
    "\n",
    "This is a simple web app which is specifically developed in a way to help civil engineers and construction site workers to write reports towards their civil engineering draws. It utilizes the state-of-the-art technology: Image-to-text, this is implemented using OpenAI's LLMs available to access to API."
   ]
  },
  {
   "cell_type": "markdown",
   "metadata": {},
   "source": [
    "### Import dependacies and initialize environment variables"
   ]
  },
  {
   "cell_type": "code",
   "execution_count": 1,
   "metadata": {},
   "outputs": [],
   "source": [
    "import openai\n",
    "import base64\n",
    "import requests\n",
    "import os\n",
    "import dotenv "
   ]
  },
  {
   "cell_type": "code",
   "execution_count": 2,
   "metadata": {},
   "outputs": [],
   "source": [
    "dotenv.load_dotenv()\n",
    "\n",
    "OPENAI_API_KEY = os.getenv(\"OPENAI_API_KEY\")"
   ]
  },
  {
   "cell_type": "markdown",
   "metadata": {},
   "source": [
    "### Encode image to Base64"
   ]
  },
  {
   "cell_type": "code",
   "execution_count": 3,
   "metadata": {},
   "outputs": [],
   "source": [
    "def encode_image(image_path):\n",
    "  with open(image_path, \"rb\") as image_file:\n",
    "    return base64.b64encode(image_file.read()).decode('utf-8')"
   ]
  },
  {
   "cell_type": "code",
   "execution_count": 7,
   "metadata": {},
   "outputs": [],
   "source": [
    "image_path = \"../images/Sample.jpg\"\n",
    "base64_image = encode_image(image_path)"
   ]
  },
  {
   "cell_type": "markdown",
   "metadata": {},
   "source": [
    "### Use OpenAI GPT-4 Vision model to generate a report for civil engineering images and drawings"
   ]
  },
  {
   "cell_type": "markdown",
   "metadata": {},
   "source": [
    "![Sample Input Image](../raw_data/images/Sample.jpg)"
   ]
  },
  {
   "cell_type": "code",
   "execution_count": 9,
   "metadata": {},
   "outputs": [],
   "source": [
    "headers = {\n",
    "  \"Content-Type\": \"application/json\",\n",
    "  \"Authorization\": f\"Bearer {OPENAI_API_KEY}\"\n",
    "}"
   ]
  },
  {
   "cell_type": "code",
   "execution_count": 10,
   "metadata": {},
   "outputs": [
    {
     "name": "stdout",
     "output_type": "stream",
     "text": [
      "{'id': 'chatcmpl-A7afxyQD18GgKtOR1dqdgcORsYM6c', 'object': 'chat.completion', 'created': 1726372641, 'model': 'gpt-4o-mini-2024-07-18', 'choices': [{'index': 0, 'message': {'role': 'assistant', 'content': 'The image is a floor plan for a north-facing house, featuring a layout measuring 30 feet by 40 feet, with a total build-up area of 1200 square feet. \\n\\nHere are the key components:\\n\\n- **Kitchen**: Located in the upper left corner, measuring 14\\' x 10\\'6\".\\n- **Dining Room**: Adjacent to the kitchen, measuring 14\\' x 10\\'.\\n- **Living Room**: Positioned in the lower left section, measuring 18\\' x 17\\'.\\n- **Lobby**: A small space measuring 8\\' x 6\\' located in the center.\\n- **Toilet**: A compact area measuring 6\\' x 6\\' next to the lobby.\\n- **Two Bedrooms**: One measuring 14\\' x 14\\'6\" and another smaller room that is 10\\' x 10\\', both located on the upper right side.\\n\\nThe plan also includes directional indicators like a compass rose, denoting the orientations of the rooms and entrances.', 'refusal': None}, 'logprobs': None, 'finish_reason': 'stop'}], 'usage': {'prompt_tokens': 25511, 'completion_tokens': 209, 'total_tokens': 25720, 'completion_tokens_details': {'reasoning_tokens': 0}}, 'system_fingerprint': 'fp_54e2f484be'}\n"
     ]
    }
   ],
   "source": [
    "payload = {\n",
    "  \"model\": \"gpt-4o-mini\",\n",
    "  \"messages\": [\n",
    "    {\n",
    "      \"role\": \"user\",\n",
    "      \"content\": [\n",
    "        {\n",
    "          \"type\": \"text\",\n",
    "          \"text\": \"Describe this image\"\n",
    "        },\n",
    "        {\n",
    "          \"type\": \"image_url\",\n",
    "          \"image_url\": {\n",
    "            \"url\": f\"data:image/jpeg;base64,{base64_image}\"\n",
    "          }\n",
    "        }\n",
    "      ]\n",
    "    }\n",
    "  ],\n",
    "  \"max_tokens\": 300\n",
    "}\n",
    "\n",
    "response = requests.post(\"https://api.openai.com/v1/chat/completions\", headers=headers, json=payload)\n",
    "\n",
    "print(response.json())\n"
   ]
  },
  {
   "cell_type": "code",
   "execution_count": 12,
   "metadata": {},
   "outputs": [
    {
     "name": "stdout",
     "output_type": "stream",
     "text": [
      "The image is a floor plan for a north-facing house, featuring a layout measuring 30 feet by 40 feet, with a total build-up area of 1200 square feet. \n",
      "\n",
      "Here are the key components:\n",
      "\n",
      "- **Kitchen**: Located in the upper left corner, measuring 14' x 10'6\".\n",
      "- **Dining Room**: Adjacent to the kitchen, measuring 14' x 10'.\n",
      "- **Living Room**: Positioned in the lower left section, measuring 18' x 17'.\n",
      "- **Lobby**: A small space measuring 8' x 6' located in the center.\n",
      "- **Toilet**: A compact area measuring 6' x 6' next to the lobby.\n",
      "- **Two Bedrooms**: One measuring 14' x 14'6\" and another smaller room that is 10' x 10', both located on the upper right side.\n",
      "\n",
      "The plan also includes directional indicators like a compass rose, denoting the orientations of the rooms and entrances.\n"
     ]
    }
   ],
   "source": [
    "result = response.json()\n",
    "print(result[\"choices\"][0][\"message\"][\"content\"])"
   ]
  }
 ],
 "metadata": {
  "kernelspec": {
   "display_name": ".venv",
   "language": "python",
   "name": "python3"
  },
  "language_info": {
   "codemirror_mode": {
    "name": "ipython",
    "version": 3
   },
   "file_extension": ".py",
   "mimetype": "text/x-python",
   "name": "python",
   "nbconvert_exporter": "python",
   "pygments_lexer": "ipython3",
   "version": "3.12.3"
  }
 },
 "nbformat": 4,
 "nbformat_minor": 2
}
